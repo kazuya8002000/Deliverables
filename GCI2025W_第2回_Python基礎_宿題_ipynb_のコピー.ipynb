{
  "cells": [
    {
      "cell_type": "markdown",
      "metadata": {
        "id": "view-in-github",
        "colab_type": "text"
      },
      "source": [
        "<a href=\"https://colab.research.google.com/github/kazuya8002000/Deliverables/blob/main/GCI2025W_%E7%AC%AC2%E5%9B%9E_Python%E5%9F%BA%E7%A4%8E_%E5%AE%BF%E9%A1%8C_ipynb_%E3%81%AE%E3%82%B3%E3%83%94%E3%83%BC.ipynb\" target=\"_parent\"><img src=\"https://colab.research.google.com/assets/colab-badge.svg\" alt=\"Open In Colab\"/></a>"
      ]
    },
    {
      "cell_type": "markdown",
      "metadata": {
        "id": "93cl9JWr_5nm"
      },
      "source": [
        "## 問題文\n",
        "ある箱のwidth(幅)、depth(奥行き)、height(高さ)を引数として、その箱の体積が1000以上であればTrue, 1000未満であればFalseを出力する関数を実装してください。単位は全て省略とします。\n",
        "\n",
        "以下が想定される出力です\n",
        "\n",
        "```python\n",
        "width = 10\n",
        "depth = 20\n",
        "height = 35\n",
        "print(homework(width, depth, height))\n",
        "\n",
        "---------\n",
        "True\n",
        "```\n",
        "\n",
        "提出するときは、以下の点に注意してください。適宜例題(次のセクションにあります)を参考にしてください。Omnicampusには例題の回答を提出する欄はありません。\n",
        ">- 以下の関数`homework`の`!!WRITE ME!!`に処理を書いてください。(**「`!!WRITE ME!!`」は消して、記入してください。**)\n",
        ">- 実際の提出は記述された`homework`関数全てになり、**提出はOmnicampus内の宿題の欄から今週の課題を選択後、提出内容に関数を貼り付けてから[Pythonコード提出]を押してください。**\n",
        ">- 関数は1つにまとめてください。"
      ]
    },
    {
      "cell_type": "code",
      "execution_count": null,
      "metadata": {
        "id": "thHL7HyXBXvS"
      },
      "outputs": [],
      "source": [
        "# !!WRITE ME!!に処理を記入する（このセルのhomework関数のみを提出することに注意）\n",
        "def homework(width, depth, height):\n",
        "\n",
        "    volume = width * depth * height\n",
        "    return volume >= 1000\n",
        "\n",
        "    return my_result"
      ]
    },
    {
      "cell_type": "code",
      "source": [
        "# homework関数の動作確認をします（このコードは提出しません）\n",
        "width = 10\n",
        "depth = 20\n",
        "height = 35\n",
        "print(homework(width, depth, height))"
      ],
      "metadata": {
        "colab": {
          "base_uri": "https://localhost:8080/"
        },
        "id": "Nk2WvS3aE8QA",
        "outputId": "b16e7307-4a7f-4f1d-e277-a2d1b89137ab"
      },
      "execution_count": null,
      "outputs": [
        {
          "output_type": "stream",
          "name": "stdout",
          "text": [
            "True\n"
          ]
        }
      ]
    },
    {
      "cell_type": "code",
      "source": [
        "# homework関数の動作確認をします（このコードは提出しません）\n",
        "width = 10\n",
        "depth = 10\n",
        "height = 9\n",
        "print(homework(width, depth, height))"
      ],
      "metadata": {
        "colab": {
          "base_uri": "https://localhost:8080/"
        },
        "id": "cO5VE-peExXR",
        "outputId": "71c56230-cc1a-4d81-da04-12e0b761a2a5"
      },
      "execution_count": null,
      "outputs": [
        {
          "output_type": "stream",
          "name": "stdout",
          "text": [
            "False\n"
          ]
        }
      ]
    }
  ],
  "metadata": {
    "colab": {
      "provenance": [],
      "include_colab_link": true
    },
    "kernelspec": {
      "display_name": "Python 3",
      "name": "python3"
    },
    "language_info": {
      "codemirror_mode": {
        "name": "ipython",
        "version": 3
      },
      "file_extension": ".py",
      "mimetype": "text/x-python",
      "name": "python",
      "nbconvert_exporter": "python",
      "pygments_lexer": "ipython3",
      "version": "3.8.5"
    }
  },
  "nbformat": 4,
  "nbformat_minor": 0
}